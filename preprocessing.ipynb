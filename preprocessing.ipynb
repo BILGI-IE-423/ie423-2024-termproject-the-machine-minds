!pip install pandas

import pandas as pd

spotify_file= "C:\Users\ilayd\OneDrive\Masaüstü\spotify_songs.csv"
ts_features_file= "C:\Users\ilayd\OneDrive\Masaüstü\taylorswift-Features.csv"
ts_tracks_file= "C:\Users\ilayd\OneDrive\Masaüstü\taylorswift-Tracks.csv"

#Data reading
spotify = pd.read_csv(spotify_file)
ts_features = pd.read_csv(ts_features_file)
ts_tracks = pd.read_csv(ts_tracks_file)
