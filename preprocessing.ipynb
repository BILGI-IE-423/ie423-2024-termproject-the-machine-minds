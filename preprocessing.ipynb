{
 "cells": [
  {
   "cell_type": "code",
   "execution_count": 3,
   "id": "e6232287",
   "metadata": {},
   "outputs": [
    {
     "name": "stdout",
     "output_type": "stream",
     "text": [
      "Requirement already satisfied: pandas in c:\\users\\ilayd\\anaconda3\\lib\\site-packages (2.0.3)\n",
      "Requirement already satisfied: python-dateutil>=2.8.2 in c:\\users\\ilayd\\anaconda3\\lib\\site-packages (from pandas) (2.8.2)\n",
      "Requirement already satisfied: pytz>=2020.1 in c:\\users\\ilayd\\anaconda3\\lib\\site-packages (from pandas) (2023.3.post1)\n",
      "Requirement already satisfied: tzdata>=2022.1 in c:\\users\\ilayd\\anaconda3\\lib\\site-packages (from pandas) (2023.3)\n",
      "Requirement already satisfied: numpy>=1.21.0 in c:\\users\\ilayd\\anaconda3\\lib\\site-packages (from pandas) (1.24.3)\n",
      "Requirement already satisfied: six>=1.5 in c:\\users\\ilayd\\anaconda3\\lib\\site-packages (from python-dateutil>=2.8.2->pandas) (1.16.0)\n",
      "Requirement already satisfied: matplotlib in c:\\users\\ilayd\\anaconda3\\lib\\site-packages (3.7.2)\n",
      "Requirement already satisfied: contourpy>=1.0.1 in c:\\users\\ilayd\\anaconda3\\lib\\site-packages (from matplotlib) (1.0.5)\n",
      "Requirement already satisfied: cycler>=0.10 in c:\\users\\ilayd\\anaconda3\\lib\\site-packages (from matplotlib) (0.11.0)\n",
      "Requirement already satisfied: fonttools>=4.22.0 in c:\\users\\ilayd\\anaconda3\\lib\\site-packages (from matplotlib) (4.25.0)\n",
      "Requirement already satisfied: kiwisolver>=1.0.1 in c:\\users\\ilayd\\anaconda3\\lib\\site-packages (from matplotlib) (1.4.4)\n",
      "Requirement already satisfied: numpy>=1.20 in c:\\users\\ilayd\\anaconda3\\lib\\site-packages (from matplotlib) (1.24.3)\n",
      "Requirement already satisfied: packaging>=20.0 in c:\\users\\ilayd\\anaconda3\\lib\\site-packages (from matplotlib) (23.1)\n",
      "Requirement already satisfied: pillow>=6.2.0 in c:\\users\\ilayd\\anaconda3\\lib\\site-packages (from matplotlib) (9.4.0)\n",
      "Requirement already satisfied: pyparsing<3.1,>=2.3.1 in c:\\users\\ilayd\\anaconda3\\lib\\site-packages (from matplotlib) (3.0.9)\n",
      "Requirement already satisfied: python-dateutil>=2.7 in c:\\users\\ilayd\\anaconda3\\lib\\site-packages (from matplotlib) (2.8.2)\n",
      "Requirement already satisfied: six>=1.5 in c:\\users\\ilayd\\anaconda3\\lib\\site-packages (from python-dateutil>=2.7->matplotlib) (1.16.0)\n",
      "Requirement already satisfied: seaborn in c:\\users\\ilayd\\anaconda3\\lib\\site-packages (0.12.2)\n",
      "Requirement already satisfied: numpy!=1.24.0,>=1.17 in c:\\users\\ilayd\\anaconda3\\lib\\site-packages (from seaborn) (1.24.3)\n",
      "Requirement already satisfied: pandas>=0.25 in c:\\users\\ilayd\\anaconda3\\lib\\site-packages (from seaborn) (2.0.3)\n",
      "Requirement already satisfied: matplotlib!=3.6.1,>=3.1 in c:\\users\\ilayd\\anaconda3\\lib\\site-packages (from seaborn) (3.7.2)\n",
      "Requirement already satisfied: contourpy>=1.0.1 in c:\\users\\ilayd\\anaconda3\\lib\\site-packages (from matplotlib!=3.6.1,>=3.1->seaborn) (1.0.5)\n",
      "Requirement already satisfied: cycler>=0.10 in c:\\users\\ilayd\\anaconda3\\lib\\site-packages (from matplotlib!=3.6.1,>=3.1->seaborn) (0.11.0)\n",
      "Requirement already satisfied: fonttools>=4.22.0 in c:\\users\\ilayd\\anaconda3\\lib\\site-packages (from matplotlib!=3.6.1,>=3.1->seaborn) (4.25.0)\n",
      "Requirement already satisfied: kiwisolver>=1.0.1 in c:\\users\\ilayd\\anaconda3\\lib\\site-packages (from matplotlib!=3.6.1,>=3.1->seaborn) (1.4.4)\n",
      "Requirement already satisfied: packaging>=20.0 in c:\\users\\ilayd\\anaconda3\\lib\\site-packages (from matplotlib!=3.6.1,>=3.1->seaborn) (23.1)\n",
      "Requirement already satisfied: pillow>=6.2.0 in c:\\users\\ilayd\\anaconda3\\lib\\site-packages (from matplotlib!=3.6.1,>=3.1->seaborn) (9.4.0)\n",
      "Requirement already satisfied: pyparsing<3.1,>=2.3.1 in c:\\users\\ilayd\\anaconda3\\lib\\site-packages (from matplotlib!=3.6.1,>=3.1->seaborn) (3.0.9)\n",
      "Requirement already satisfied: python-dateutil>=2.7 in c:\\users\\ilayd\\anaconda3\\lib\\site-packages (from matplotlib!=3.6.1,>=3.1->seaborn) (2.8.2)\n",
      "Requirement already satisfied: pytz>=2020.1 in c:\\users\\ilayd\\anaconda3\\lib\\site-packages (from pandas>=0.25->seaborn) (2023.3.post1)\n",
      "Requirement already satisfied: tzdata>=2022.1 in c:\\users\\ilayd\\anaconda3\\lib\\site-packages (from pandas>=0.25->seaborn) (2023.3)\n",
      "Requirement already satisfied: six>=1.5 in c:\\users\\ilayd\\anaconda3\\lib\\site-packages (from python-dateutil>=2.7->matplotlib!=3.6.1,>=3.1->seaborn) (1.16.0)\n",
      "Requirement already satisfied: scikit-learn in c:\\users\\ilayd\\anaconda3\\lib\\site-packages (1.3.0)\n",
      "Requirement already satisfied: numpy>=1.17.3 in c:\\users\\ilayd\\anaconda3\\lib\\site-packages (from scikit-learn) (1.24.3)\n",
      "Requirement already satisfied: scipy>=1.5.0 in c:\\users\\ilayd\\anaconda3\\lib\\site-packages (from scikit-learn) (1.11.1)\n",
      "Requirement already satisfied: joblib>=1.1.1 in c:\\users\\ilayd\\anaconda3\\lib\\site-packages (from scikit-learn) (1.2.0)\n",
      "Requirement already satisfied: threadpoolctl>=2.0.0 in c:\\users\\ilayd\\anaconda3\\lib\\site-packages (from scikit-learn) (2.2.0)\n"
     ]
    }
   ],
   "source": [
    "!pip install pandas\n",
    "!pip install matplotlib\n",
    "!pip install seaborn\n",
    "!pip install scikit-learn"
   ]
  },
  {
   "cell_type": "code",
   "execution_count": 2,
   "id": "91fc16c1",
   "metadata": {},
   "outputs": [],
   "source": [
    "import pandas as pd\n",
    "import numpy as np\n",
    "import matplotlib.pyplot as plt\n",
    "import seaborn as sns\n",
    "from sklearn import datasets, metrics\n",
    "from sklearn.model_selection import train_test_split, cross_val_score\n",
    "from sklearn.preprocessing import StandardScaler\n",
    "from sklearn.svm import SVC\n",
    "from sklearn.linear_model import LogisticRegression\n",
    "from sklearn.neighbors import KNeighborsClassifier\n",
    "from sklearn.metrics import confusion_matrix, accuracy_score, precision_score, recall_score, f1_score\n",
    "from itertools import product\n",
    "from sklearn.exceptions import ConvergenceWarning\n",
    "\n",
    "\n",
    "spotify_file= r\"C:\\Users\\ilayd\\OneDrive\\Masaüstü\\spotify_songs.csv\"\n",
    "ts_features_file= r\"C:\\Users\\ilayd\\OneDrive\\Masaüstü\\taylorswift-Features.csv\"\n",
    "ts_tracks_file= r\"C:\\Users\\ilayd\\OneDrive\\Masaüstü\\taylorswift-Tracks.csv\"\n",
    "\n",
    "#Data reading\n",
    "spotify = pd.read_csv(spotify_file)\n",
    "ts_features = pd.read_csv(ts_features_file)\n",
    "ts_tracks = pd.read_csv(ts_tracks_file)"
   ]
  },
  {
   "cell_type": "code",
   "execution_count": 3,
   "id": "f680bb55",
   "metadata": {},
   "outputs": [
    {
     "name": "stdout",
     "output_type": "stream",
     "text": [
      "<class 'pandas.core.frame.DataFrame'>\n",
      "RangeIndex: 32833 entries, 0 to 32832\n",
      "Data columns (total 23 columns):\n",
      " #   Column                    Non-Null Count  Dtype  \n",
      "---  ------                    --------------  -----  \n",
      " 0   track_id                  32833 non-null  object \n",
      " 1   track_name                32828 non-null  object \n",
      " 2   track_artist              32828 non-null  object \n",
      " 3   track_popularity          32833 non-null  int64  \n",
      " 4   track_album_id            32833 non-null  object \n",
      " 5   track_album_name          32828 non-null  object \n",
      " 6   track_album_release_date  32833 non-null  object \n",
      " 7   playlist_name             32833 non-null  object \n",
      " 8   playlist_id               32833 non-null  object \n",
      " 9   playlist_genre            32833 non-null  object \n",
      " 10  playlist_subgenre         32833 non-null  object \n",
      " 11  danceability              32833 non-null  float64\n",
      " 12  energy                    32833 non-null  float64\n",
      " 13  key                       32833 non-null  int64  \n",
      " 14  loudness                  32833 non-null  float64\n",
      " 15  mode                      32833 non-null  int64  \n",
      " 16  speechiness               32833 non-null  float64\n",
      " 17  acousticness              32833 non-null  float64\n",
      " 18  instrumentalness          32833 non-null  float64\n",
      " 19  liveness                  32833 non-null  float64\n",
      " 20  valence                   32833 non-null  float64\n",
      " 21  tempo                     32833 non-null  float64\n",
      " 22  duration_ms               32833 non-null  int64  \n",
      "dtypes: float64(9), int64(4), object(10)\n",
      "memory usage: 5.8+ MB\n"
     ]
    }
   ],
   "source": [
    "spotify.info()"
   ]
  },
  {
   "cell_type": "code",
   "execution_count": 4,
   "id": "2b79bd65",
   "metadata": {},
   "outputs": [
    {
     "name": "stdout",
     "output_type": "stream",
     "text": [
      "track_id                    0\n",
      "track_name                  5\n",
      "track_artist                5\n",
      "track_popularity            0\n",
      "track_album_id              0\n",
      "track_album_name            5\n",
      "track_album_release_date    0\n",
      "playlist_name               0\n",
      "playlist_id                 0\n",
      "playlist_genre              0\n",
      "playlist_subgenre           0\n",
      "danceability                0\n",
      "energy                      0\n",
      "key                         0\n",
      "loudness                    0\n",
      "mode                        0\n",
      "speechiness                 0\n",
      "acousticness                0\n",
      "instrumentalness            0\n",
      "liveness                    0\n",
      "valence                     0\n",
      "tempo                       0\n",
      "duration_ms                 0\n",
      "dtype: int64\n",
      "Unnamed: 0          0\n",
      "album_id            0\n",
      "album_name          0\n",
      "id                  0\n",
      "track_name          0\n",
      "danceability        0\n",
      "energy              0\n",
      "key                 0\n",
      "loudness            0\n",
      "mode                0\n",
      "speechiness         0\n",
      "acousticness        0\n",
      "instrumentalness    0\n",
      "liveness            0\n",
      "valence             0\n",
      "tempo               0\n",
      "dtype: int64\n",
      "Unnamed: 0      0\n",
      "album_id        0\n",
      "album_name      0\n",
      "id              0\n",
      "name            0\n",
      "release_date    0\n",
      "duration        0\n",
      "track_number    0\n",
      "popularity      0\n",
      "explicit        0\n",
      "uri             0\n",
      "dtype: int64\n"
     ]
    }
   ],
   "source": [
    "#missing value checking\n",
    "print(spotify.isnull().sum())\n",
    "print(ts_features.isnull().sum())\n",
    "print(ts_tracks.isnull().sum())"
   ]
  },
  {
   "cell_type": "code",
   "execution_count": null,
   "id": "39cbe700",
   "metadata": {},
   "outputs": [],
   "source": [
    "#found 5 missing value for track_name, track_artist and track_album_name\n",
    "#those are in spotify dataset. \n",
    "#there may be a single song which is not belongs to any album."
   ]
  },
  {
   "cell_type": "code",
   "execution_count": 7,
   "id": "b5637f8b",
   "metadata": {},
   "outputs": [
    {
     "name": "stdout",
     "output_type": "stream",
     "text": [
      "For spotify data:\n",
      "        track_popularity  danceability        energy           key  \\\n",
      "count      32833.000000  32833.000000  32833.000000  32833.000000   \n",
      "mean          42.477081      0.654850      0.698619      5.374471   \n",
      "std           24.984074      0.145085      0.180910      3.611657   \n",
      "min            0.000000      0.000000      0.000175      0.000000   \n",
      "25%           24.000000      0.563000      0.581000      2.000000   \n",
      "50%           45.000000      0.672000      0.721000      6.000000   \n",
      "75%           62.000000      0.761000      0.840000      9.000000   \n",
      "max          100.000000      0.983000      1.000000     11.000000   \n",
      "\n",
      "           loudness          mode   speechiness  acousticness  \\\n",
      "count  32833.000000  32833.000000  32833.000000  32833.000000   \n",
      "mean      -6.719499      0.565711      0.107068      0.175334   \n",
      "std        2.988436      0.495671      0.101314      0.219633   \n",
      "min      -46.448000      0.000000      0.000000      0.000000   \n",
      "25%       -8.171000      0.000000      0.041000      0.015100   \n",
      "50%       -6.166000      1.000000      0.062500      0.080400   \n",
      "75%       -4.645000      1.000000      0.132000      0.255000   \n",
      "max        1.275000      1.000000      0.918000      0.994000   \n",
      "\n",
      "       instrumentalness      liveness       valence         tempo  \\\n",
      "count      32833.000000  32833.000000  32833.000000  32833.000000   \n",
      "mean           0.084747      0.190176      0.510561    120.881132   \n",
      "std            0.224230      0.154317      0.233146     26.903624   \n",
      "min            0.000000      0.000000      0.000000      0.000000   \n",
      "25%            0.000000      0.092700      0.331000     99.960000   \n",
      "50%            0.000016      0.127000      0.512000    121.984000   \n",
      "75%            0.004830      0.248000      0.693000    133.918000   \n",
      "max            0.994000      0.996000      0.991000    239.440000   \n",
      "\n",
      "         duration_ms  \n",
      "count   32833.000000  \n",
      "mean   225799.811622  \n",
      "std     59834.006182  \n",
      "min      4000.000000  \n",
      "25%    187819.000000  \n",
      "50%    216000.000000  \n",
      "75%    253585.000000  \n",
      "max    517810.000000  \n",
      "For ts_features data:\n",
      "        Unnamed: 0  danceability      energy         key    loudness  \\\n",
      "count  246.000000    246.000000  246.000000  246.000000  246.000000   \n",
      "mean   122.500000      0.571496    0.573577    4.560976   -7.535431   \n",
      "std     71.158274      0.123010    0.191058    3.337227    2.870830   \n",
      "min      0.000000      0.243000    0.131000    0.000000  -15.489000   \n",
      "25%     61.250000      0.496000    0.436500    2.000000   -9.320750   \n",
      "50%    122.500000      0.581500    0.584500    5.000000   -7.012000   \n",
      "75%    183.750000      0.651000    0.720500    7.000000   -5.373750   \n",
      "max    245.000000      0.897000    0.949000   11.000000   -1.909000   \n",
      "\n",
      "             mode  speechiness  acousticness  instrumentalness    liveness  \\\n",
      "count  246.000000   246.000000    246.000000        246.000000  246.000000   \n",
      "mean     0.902439     0.054661      0.327883          0.003181    0.177638   \n",
      "std      0.297325     0.051035      0.335263          0.026029    0.177817   \n",
      "min      0.000000     0.023100      0.000184          0.000000    0.035700   \n",
      "25%      1.000000     0.030825      0.025800          0.000000    0.093100   \n",
      "50%      1.000000     0.038450      0.156500          0.000001    0.116500   \n",
      "75%      1.000000     0.057325      0.670000          0.000030    0.162250   \n",
      "max      1.000000     0.519000      0.971000          0.328000    0.931000   \n",
      "\n",
      "          valence       tempo  \n",
      "count  246.000000  246.000000  \n",
      "mean     0.392932  125.163744  \n",
      "std      0.187662   31.796187  \n",
      "min      0.038200   68.534000  \n",
      "25%      0.249750   99.206750  \n",
      "50%      0.385500  120.527000  \n",
      "75%      0.519500  147.980250  \n",
      "max      0.920000  208.918000  \n",
      "For ts_tracks data:\n",
      "        Unnamed: 0  track_number  popularity\n",
      "count  246.000000    246.000000  246.000000\n",
      "mean   122.500000      9.382114   66.743902\n",
      "std     71.158274      5.430106   13.769363\n",
      "min      0.000000      1.000000   34.000000\n",
      "25%     61.250000      5.000000   59.000000\n",
      "50%    122.500000      9.000000   70.000000\n",
      "75%    183.750000     14.000000   75.000000\n",
      "max    245.000000     20.000000   99.000000\n"
     ]
    }
   ],
   "source": [
    "#General information about numerical features\n",
    "print('For spotify data:\\n', spotify.describe())\n",
    "print('For ts_features data:\\n', ts_features.describe())\n",
    "print('For ts_tracks data:\\n', ts_tracks.describe())"
   ]
  },
  {
   "cell_type": "code",
   "execution_count": null,
   "id": "390d31de",
   "metadata": {},
   "outputs": [],
   "source": []
  },
  {
   "cell_type": "code",
   "execution_count": 8,
   "id": "d22d2a9c",
   "metadata": {},
   "outputs": [
    {
     "data": {
      "text/plain": [
       "0"
      ]
     },
     "execution_count": 8,
     "metadata": {},
     "output_type": "execute_result"
    }
   ],
   "source": [
    "spotify.duplicated().sum()"
   ]
  },
  {
   "cell_type": "code",
   "execution_count": 9,
   "id": "804df2a4",
   "metadata": {},
   "outputs": [
    {
     "data": {
      "text/plain": [
       "0"
      ]
     },
     "execution_count": 9,
     "metadata": {},
     "output_type": "execute_result"
    }
   ],
   "source": [
    "ts_tracks.duplicated().sum()"
   ]
  },
  {
   "cell_type": "code",
   "execution_count": 10,
   "id": "41f85c36",
   "metadata": {},
   "outputs": [
    {
     "data": {
      "text/plain": [
       "0"
      ]
     },
     "execution_count": 10,
     "metadata": {},
     "output_type": "execute_result"
    }
   ],
   "source": [
    "ts_features.duplicated().sum()"
   ]
  },
  {
   "cell_type": "code",
   "execution_count": null,
   "id": "febcbdaf",
   "metadata": {},
   "outputs": [],
   "source": [
    "# Drop rows with missing values\n",
    "#spotify.dropna(inplace=True)\n",
    "\n",
    "#X_train, X_test, y_train, y_test = train_test_split(X, y, test_size=0.2, random_state=42)\n"
   ]
  }
 ],
 "metadata": {
  "kernelspec": {
   "display_name": "Python 3 (ipykernel)",
   "language": "python",
   "name": "python3"
  },
  "language_info": {
   "codemirror_mode": {
    "name": "ipython",
    "version": 3
   },
   "file_extension": ".py",
   "mimetype": "text/x-python",
   "name": "python",
   "nbconvert_exporter": "python",
   "pygments_lexer": "ipython3",
   "version": "3.11.5"
  }
 },
 "nbformat": 4,
 "nbformat_minor": 5
}
